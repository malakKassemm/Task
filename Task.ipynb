{
 "cells": [
  {
   "cell_type": "code",
   "execution_count": 1,
   "id": "9263eb1e",
   "metadata": {},
   "outputs": [],
   "source": [
    "import pandas as pd\n",
    "import numpy as np\n",
    "import hashlib"
   ]
  },
  {
   "cell_type": "code",
   "execution_count": 2,
   "id": "28c2a2fd",
   "metadata": {},
   "outputs": [
    {
     "name": "stdout",
     "output_type": "stream",
     "text": [
      "Enter filename: annual-enterprise-survey-2020-financial-year-provisional-csv.csv\n"
     ]
    }
   ],
   "source": [
    "filename = input(\"Enter filename: \")"
   ]
  },
  {
   "cell_type": "code",
   "execution_count": 3,
   "id": "2627537c",
   "metadata": {},
   "outputs": [],
   "source": [
    "df = pd.read_csv(filename)"
   ]
  },
  {
   "cell_type": "code",
   "execution_count": 4,
   "id": "80eb038c",
   "metadata": {},
   "outputs": [],
   "source": [
    "data = df[::2]"
   ]
  },
  {
   "cell_type": "code",
   "execution_count": 5,
   "id": "8027b7d8",
   "metadata": {},
   "outputs": [],
   "source": [
    "arr = data[df.columns[2]].to_numpy()"
   ]
  },
  {
   "cell_type": "code",
   "execution_count": 6,
   "id": "ab3db13d",
   "metadata": {},
   "outputs": [],
   "source": [
    "mystring = \"\"\n",
    "for i in range(arr.size):\n",
    "    mystring = mystring + str(arr[i])"
   ]
  },
  {
   "cell_type": "code",
   "execution_count": 7,
   "id": "82ff2166",
   "metadata": {},
   "outputs": [],
   "source": [
    "result = hashlib.md5(mystring.encode()).hexdigest()\n"
   ]
  },
  {
   "cell_type": "code",
   "execution_count": 8,
   "id": "e071cc68",
   "metadata": {},
   "outputs": [
    {
     "name": "stdout",
     "output_type": "stream",
     "text": [
      "4dd595e104b509f219a56d3e52f409ac\n"
     ]
    }
   ],
   "source": [
    "print(result)"
   ]
  },
  {
   "cell_type": "code",
   "execution_count": 9,
   "id": "bcd96f81",
   "metadata": {},
   "outputs": [
    {
     "data": {
      "text/plain": [
       "'4DD595E104B509F219A56D3E52F409AC'"
      ]
     },
     "execution_count": 9,
     "metadata": {},
     "output_type": "execute_result"
    }
   ],
   "source": [
    "result.upper()"
   ]
  }
 ],
 "metadata": {
  "kernelspec": {
   "display_name": "Python 3",
   "language": "python",
   "name": "python3"
  },
  "language_info": {
   "codemirror_mode": {
    "name": "ipython",
    "version": 3
   },
   "file_extension": ".py",
   "mimetype": "text/x-python",
   "name": "python",
   "nbconvert_exporter": "python",
   "pygments_lexer": "ipython3",
   "version": "3.9.5"
  }
 },
 "nbformat": 4,
 "nbformat_minor": 5
}
